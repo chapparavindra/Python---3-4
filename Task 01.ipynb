{
 "cells": [
  {
   "cell_type": "code",
   "execution_count": 1,
   "metadata": {},
   "outputs": [
    {
     "name": "stdout",
     "output_type": "stream",
     "text": [
      "625\n"
     ]
    }
   ],
   "source": [
    "#1.1\n",
    "'''Write a Python Program to implement your own myreduce() function which works exactly like\n",
    "Python's built-in function reduce()'''\n",
    "def Multiply(x,y): return x * y\n",
    "def myreduce(anyfunc, sequence):\n",
    "    result = sequence[0]\n",
    "    for item in sequence[1:]:\n",
    "        result = anyfunc(result, item)\n",
    "    return result\n",
    "\n",
    "\n",
    "\n",
    "print(str(myreduce(Multiply, [5,5,5,5])))"
   ]
  },
  {
   "cell_type": "code",
   "execution_count": 2,
   "metadata": {},
   "outputs": [
    {
     "name": "stdout",
     "output_type": "stream",
     "text": [
      "[28, 2, 22, 16]\n"
     ]
    }
   ],
   "source": [
    "#1.2\n",
    "'''Write a Python program to implement your own myfilter() function which works exactly like\n",
    "Python's built-in function filter()'''\n",
    "def myfilter(anyfunc, sequence):\n",
    "    result = []\n",
    "    for item in sequence:\n",
    "        if anyfunc(item):\n",
    "            result.append(item)\n",
    "    return result\n",
    "\n",
    "def iseven(x):\n",
    "    if (x%2== 0): \n",
    "        return True \n",
    "    else: \n",
    "        return False\n",
    "\n",
    "\n",
    "print(str(myfilter(iseven, [28,1,2,11,22,16])))"
   ]
  },
  {
   "cell_type": "code",
   "execution_count": 3,
   "metadata": {},
   "outputs": [
    {
     "name": "stdout",
     "output_type": "stream",
     "text": [
      "['A', 'C', 'A', 'D', 'G', 'I', 'L', 'D']\n",
      "['x', 'xx', 'xxx', 'xxxx', 'y', 'yy', 'yyy', 'yyyy', 'z', 'zz', 'zzz', 'zzzz']\n",
      "['x', 'y', 'z', 'xx', 'yy', 'zz', 'xxx', 'yyy', 'zzz', 'xxxx', 'yyyy', 'zzzz']\n",
      "[[2], [3], [4], [3], [4], [5], [4], [5], [6]]\n",
      "[[2, 3, 4, 5], [3, 4, 5, 6], [4, 5, 6, 7], [5, 6, 7, 8]]\n",
      "[(1, 1), (2, 1), (3, 1), (1, 2), (2, 2), (3, 2), (1, 3), (2, 3), (3, 3)]\n"
     ]
    }
   ],
   "source": [
    "#2 Implement List comprehensions to produce the following lists.\n",
    "#Write List comprehensions to produce the following Lists\n",
    "#['A', 'C', 'A', 'D', 'G', 'I', ’L’, ‘ D’]\n",
    "word = \"ACADGILD\"\n",
    "#Iterating Each Character in the String\n",
    "alphabet_list = [ alphabet for alphabet in word ]\n",
    "print (str(alphabet_list))\n",
    "\n",
    "\n",
    "\n",
    "#['x', 'xx', 'xxx', 'xxxx', 'y', 'yy', 'yyy', 'yyyy', 'z', 'zz', 'zzz', 'zzzz']\n",
    "x = ['x','y','z']\n",
    "#Creating a List using Comprehension list technique and nested for Loop\n",
    "result = [ item*num for item in x for num in range(1,5)  ]\n",
    "print(str(result))\n",
    "\n",
    "\n",
    "#['x', 'y', 'z', 'xx', 'yy', 'zz', 'xx', 'yy', 'zz', 'xxxx', 'yyyy', 'zzzz']\n",
    "y = ['x','y','z']\n",
    "#Creating a List using Comprehension list technique and nested for Loop\n",
    "result = [ item*num for num in range(1,5) for item in y   ]\n",
    "print(str(result))\n",
    "\n",
    "\n",
    "\n",
    "#[[2], [3], [4], [3], [4], [5], [4], [5], [6]]\n",
    "z = [2,3,4]\n",
    "result = [ [item+num] for item in z for num in range(0,3)]\n",
    "print(str(result))\n",
    "\n",
    "[[2, 3, 4, 5], [3, 4, 5, 6], [4, 5, 6, 7], [5, 6, 7, 8]]\n",
    "listset = [2,3,4,5]\n",
    "result = [ [item+num for item in listset] for num in range(0,4)  ]\n",
    "print(str(result))\n",
    "\n",
    "[(1, 1), (2, 1), (3, 1), (1, 2), (2, 2), (3, 2), (1, 3), (2, 3), (3, 3)]\n",
    "listset=[1,2,3]\n",
    "result = [ (b,a) for a in listset for b in listset]\n",
    "print(str(result))"
   ]
  },
  {
   "cell_type": "code",
   "execution_count": 4,
   "metadata": {},
   "outputs": [
    {
     "name": "stdout",
     "output_type": "stream",
     "text": [
      "chapparavindra\n"
     ]
    }
   ],
   "source": [
    "#3 Implement a function longestWord() that takes a list of words and returns the longest one.\n",
    "from functools import reduce\n",
    "#Function that will return the Largest word from the list\n",
    "def longestWord(lst):\n",
    "    largestvalue=''\n",
    "    #if list has more than one item thenit will compare using reduce method using two item a item else it will return the first Item\n",
    "    if (len(lst)>1):\n",
    "        largestvalue=reduce(lambda x,y: x if len(x)>len(y) else y,lst)\n",
    "    else:\n",
    "        largestvalue=lst[0]\n",
    "    return largestvalue\n",
    "\n",
    "\n",
    "print(longestWord(['Raja','Ravi','Bhavya','Varnikasai','chapparavindra']))"
   ]
  },
  {
   "cell_type": "code",
   "execution_count": null,
   "metadata": {},
   "outputs": [],
   "source": []
  }
 ],
 "metadata": {
  "kernelspec": {
   "display_name": "Python 3",
   "language": "python",
   "name": "python3"
  },
  "language_info": {
   "codemirror_mode": {
    "name": "ipython",
    "version": 3
   },
   "file_extension": ".py",
   "mimetype": "text/x-python",
   "name": "python",
   "nbconvert_exporter": "python",
   "pygments_lexer": "ipython3",
   "version": "3.6.5"
  }
 },
 "nbformat": 4,
 "nbformat_minor": 2
}
